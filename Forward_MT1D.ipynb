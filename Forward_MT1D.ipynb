{
  "nbformat": 4,
  "nbformat_minor": 0,
  "metadata": {
    "colab": {
      "provenance": [],
      "toc_visible": true,
      "authorship_tag": "ABX9TyMHK5ADKASQshlClEo7RDF+",
      "include_colab_link": true
    },
    "kernelspec": {
      "name": "python3",
      "display_name": "Python 3"
    },
    "language_info": {
      "name": "python"
    }
  },
  "cells": [
    {
      "cell_type": "markdown",
      "metadata": {
        "id": "view-in-github",
        "colab_type": "text"
      },
      "source": [
        "<a href=\"https://colab.research.google.com/github/wahyuejunian/Forward_MT1D/blob/main/Forward_MT1D.ipynb\" target=\"_parent\"><img src=\"https://colab.research.google.com/assets/colab-badge.svg\" alt=\"Open In Colab\"/></a>"
      ]
    },
    {
      "cell_type": "code",
      "execution_count": 12,
      "metadata": {
        "id": "_kmO81IHU-z8"
      },
      "outputs": [],
      "source": [
        "import math\n",
        "import cmath\n",
        "import numpy as np\n",
        "import matplotlib.pyplot as plt\n",
        "\n",
        "mu = 4*math.pi*1E-7; #Magnetic Permeability (H/m)\n",
        "resistivities = [100, 1000, 10];\n",
        "thicknesses = [500, 1000];\n",
        "n = len(resistivities);\n",
        "frequencies = np.logspace(-3,3,36)\n",
        "\n",
        "n = len(resistivities);\n",
        "    \n",
        "nf = len(frequencies)\n",
        "appres = np.zeros(nf)\n",
        "phases = np.zeros(nf)\n",
        "ii = 0\n",
        "\n",
        "for frequency in frequencies:   \n",
        "    w =  2*math.pi*frequency;       \n",
        "    impedances = list(range(n));\n",
        "    #compute basement impedance\n",
        "    impedances[n-1] = cmath.sqrt(w*mu*resistivities[n-1]*1j);\n",
        "\n",
        "\n",
        "\n",
        "    for j in range(n-2,-1,-1):\n",
        "        resistivity = resistivities[j];\n",
        "        thickness = thicknesses[j];\n",
        "\n",
        "        # 3. Compute apparent resistivity from top layer impedance\n",
        "        #Step 2. Iterate from bottom layer to top(not the basement) \n",
        "        # Step 2.1 Calculate the intrinsic impedance of current layer\n",
        "        dj = cmath.sqrt((w * mu * (1.0/resistivity))*1j);\n",
        "        wj = dj * resistivity;\n",
        "        # Step 2.2 Calculate Exponential factor from intrinsic impedance\n",
        "        ej = cmath.exp(-2*thickness*dj);                     \n",
        "\n",
        "        # Step 2.3 Calculate reflection coeficient using current layer\n",
        "        #          intrinsic impedance and the below layer impedance\n",
        "        belowImpedance = impedances[j + 1];\n",
        "        rj = (wj - belowImpedance)/(wj + belowImpedance);\n",
        "        re = rj*ej; \n",
        "        Zj = wj * ((1 - re)/(1 + re));\n",
        "        impedances[j] = Zj;    \n",
        "\n",
        "    # Step 3. Compute apparent resistivity from top layer impedance\n",
        "    Z = impedances[0];\n",
        "    absZ = abs(Z);\n",
        "    apparentResistivity = (absZ * absZ)/(mu * w);\n",
        "    phase = math.atan2(Z.imag, Z.real)\n",
        "#         print(frequency, '\\t', apparentResistivity, '\\t', phase);\n",
        "    \n",
        "    appres[ii] = apparentResistivity\n",
        "    phases[ii] = phase\n",
        "    \n",
        "    \n",
        "    ii = ii+1\n",
        "\n"
      ]
    },
    {
      "cell_type": "code",
      "source": [
        "    fig,ax = plt.subplots(2,1)\n",
        "\n",
        "    ax[0].loglog(1/frequencies,appres, 'o',color='blue', lw=2)\n",
        "    ax[1].semilogx(1/frequencies,phases,'o', color='blue', lw=2)\n",
        "\n",
        "# ax[0].set_xscale('log')\n",
        "# ax[1].set_xscale('log')\n",
        "# ax[1].set_xlabel('Frequency [Hz]')\n",
        "# ax[0].set_ylabel('Apparent Resistivity [$\\Omega$m]')\n",
        "# ax[1].set_ylabel('Phase [radian]')"
      ],
      "metadata": {
        "colab": {
          "base_uri": "https://localhost:8080/",
          "height": 287
        },
        "id": "Y5L2T82XZeIK",
        "outputId": "01be9987-4067-4a53-a68c-5edb4a663aa5"
      },
      "execution_count": 13,
      "outputs": [
        {
          "output_type": "execute_result",
          "data": {
            "text/plain": [
              "[<matplotlib.lines.Line2D at 0x7f1cba0de370>]"
            ]
          },
          "metadata": {},
          "execution_count": 13
        },
        {
          "output_type": "display_data",
          "data": {
            "text/plain": [
              "<Figure size 432x288 with 2 Axes>"
            ],
            "image/png": "[encoded data removed]"
          },
          "metadata": {
            "needs_background": "light"
          }
        }
      ]
    }
  ]
}